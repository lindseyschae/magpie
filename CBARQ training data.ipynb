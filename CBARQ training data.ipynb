{
 "cells": [
  {
   "cell_type": "markdown",
   "id": "8288f722",
   "metadata": {},
   "source": [
    "# Pre-Processing and Training Data Development: CBARQ Survey"
   ]
  },
  {
   "cell_type": "markdown",
   "id": "4e2cf24f",
   "metadata": {},
   "source": [
    "### Problem: Does dog breed affect behavioral traits, specifically chasing (or herding)?"
   ]
  },
  {
   "cell_type": "markdown",
   "id": "c5602ba0",
   "metadata": {},
   "source": [
    "The purpose of this project is to assess how dog breeds affect behavioral traits, with the focus narrowed to chasing (see previous EDA step of this project for explanation why). Therefore, here I will create dummy variables for the breeds and conduct a train/test split. I will not need to use a scaler, as all of my independent variables will be dummy values (binary 0s and 1s)."
   ]
  },
  {
   "cell_type": "code",
   "execution_count": 1,
   "id": "e1c3cb04",
   "metadata": {},
   "outputs": [],
   "source": [
    "# Imports\n",
    "\n",
    "import pandas as pd\n",
    "import numpy as np\n",
    "import matplotlib.pyplot as plt\n",
    "import matplotlib.cm as cm\n",
    "import seaborn as sns\n",
    "from sklearn.model_selection import train_test_split"
   ]
  },
  {
   "cell_type": "code",
   "execution_count": 2,
   "id": "873f05b2",
   "metadata": {},
   "outputs": [],
   "source": [
    "# Evaluate dataset created during EDA to double-check for missing values and datatypes.\n",
    "\n",
    "df = pd.read_csv('EDA_CBARQ')\n",
    "\n",
    "# print(df.isnull().sum())\n",
    "\n",
    "# print(df.describe())\n",
    "\n",
    "# print(df.head())\n",
    "\n",
    "# print(df.columns)\n",
    "\n",
    "# print(df.dtypes)\n",
    "\n",
    "# Remove extra columns\n",
    "df = df[['BreedID', 'chasing',]]"
   ]
  },
  {
   "cell_type": "code",
   "execution_count": 3,
   "id": "d409de69",
   "metadata": {},
   "outputs": [
    {
     "data": {
      "text/html": [
       "<div>\n",
       "<style scoped>\n",
       "    .dataframe tbody tr th:only-of-type {\n",
       "        vertical-align: middle;\n",
       "    }\n",
       "\n",
       "    .dataframe tbody tr th {\n",
       "        vertical-align: top;\n",
       "    }\n",
       "\n",
       "    .dataframe thead th {\n",
       "        text-align: right;\n",
       "    }\n",
       "</style>\n",
       "<table border=\"1\" class=\"dataframe\">\n",
       "  <thead>\n",
       "    <tr style=\"text-align: right;\">\n",
       "      <th></th>\n",
       "      <th>chasing</th>\n",
       "      <th>Australian Shepherd</th>\n",
       "      <th>Border Collie</th>\n",
       "      <th>Doberman Pinscher</th>\n",
       "      <th>German Shepherd</th>\n",
       "      <th>Golden Retriever</th>\n",
       "      <th>Labrador Retriever</th>\n",
       "      <th>Mixed Breed/Unknown</th>\n",
       "      <th>Poodle (Standard)</th>\n",
       "      <th>Rottweiler</th>\n",
       "      <th>Soft Coated Wheaten Terrier</th>\n",
       "    </tr>\n",
       "  </thead>\n",
       "  <tbody>\n",
       "    <tr>\n",
       "      <th>0</th>\n",
       "      <td>3.25</td>\n",
       "      <td>0</td>\n",
       "      <td>0</td>\n",
       "      <td>0</td>\n",
       "      <td>0</td>\n",
       "      <td>0</td>\n",
       "      <td>0</td>\n",
       "      <td>1</td>\n",
       "      <td>0</td>\n",
       "      <td>0</td>\n",
       "      <td>0</td>\n",
       "    </tr>\n",
       "    <tr>\n",
       "      <th>1</th>\n",
       "      <td>3.00</td>\n",
       "      <td>0</td>\n",
       "      <td>0</td>\n",
       "      <td>0</td>\n",
       "      <td>0</td>\n",
       "      <td>0</td>\n",
       "      <td>0</td>\n",
       "      <td>1</td>\n",
       "      <td>0</td>\n",
       "      <td>0</td>\n",
       "      <td>0</td>\n",
       "    </tr>\n",
       "    <tr>\n",
       "      <th>2</th>\n",
       "      <td>4.25</td>\n",
       "      <td>0</td>\n",
       "      <td>0</td>\n",
       "      <td>0</td>\n",
       "      <td>0</td>\n",
       "      <td>0</td>\n",
       "      <td>1</td>\n",
       "      <td>0</td>\n",
       "      <td>0</td>\n",
       "      <td>0</td>\n",
       "      <td>0</td>\n",
       "    </tr>\n",
       "    <tr>\n",
       "      <th>3</th>\n",
       "      <td>2.75</td>\n",
       "      <td>0</td>\n",
       "      <td>0</td>\n",
       "      <td>0</td>\n",
       "      <td>0</td>\n",
       "      <td>0</td>\n",
       "      <td>0</td>\n",
       "      <td>1</td>\n",
       "      <td>0</td>\n",
       "      <td>0</td>\n",
       "      <td>0</td>\n",
       "    </tr>\n",
       "    <tr>\n",
       "      <th>4</th>\n",
       "      <td>2.75</td>\n",
       "      <td>0</td>\n",
       "      <td>1</td>\n",
       "      <td>0</td>\n",
       "      <td>0</td>\n",
       "      <td>0</td>\n",
       "      <td>0</td>\n",
       "      <td>0</td>\n",
       "      <td>0</td>\n",
       "      <td>0</td>\n",
       "      <td>0</td>\n",
       "    </tr>\n",
       "  </tbody>\n",
       "</table>\n",
       "</div>"
      ],
      "text/plain": [
       "   chasing  Australian Shepherd  Border Collie  Doberman Pinscher  \\\n",
       "0     3.25                    0              0                  0   \n",
       "1     3.00                    0              0                  0   \n",
       "2     4.25                    0              0                  0   \n",
       "3     2.75                    0              0                  0   \n",
       "4     2.75                    0              1                  0   \n",
       "\n",
       "   German Shepherd  Golden Retriever  Labrador Retriever  Mixed Breed/Unknown  \\\n",
       "0                0                 0                   0                    1   \n",
       "1                0                 0                   0                    1   \n",
       "2                0                 0                   1                    0   \n",
       "3                0                 0                   0                    1   \n",
       "4                0                 0                   0                    0   \n",
       "\n",
       "   Poodle (Standard)  Rottweiler  Soft Coated Wheaten Terrier  \n",
       "0                  0           0                            0  \n",
       "1                  0           0                            0  \n",
       "2                  0           0                            0  \n",
       "3                  0           0                            0  \n",
       "4                  0           0                            0  "
      ]
     },
     "execution_count": 3,
     "metadata": {},
     "output_type": "execute_result"
    }
   ],
   "source": [
    "# Creating dummy/indicator variables for the categorical data, BreedID (10 values)\n",
    "\n",
    "dummies = pd.get_dummies(df['BreedID']).astype('int')\n",
    "\n",
    "# Create a dataframe with the dummy variables, excluding the original column\n",
    "\n",
    "df_final = pd.concat([df, dummies], axis=1).drop('BreedID', axis=1)\n",
    "df_final.head()"
   ]
  },
  {
   "cell_type": "code",
   "execution_count": 4,
   "id": "5feaaae2",
   "metadata": {},
   "outputs": [],
   "source": [
    "# Separate X and y dataframes\n",
    "\n",
    "X = df_final[['Australian Shepherd', 'Border Collie', 'Doberman Pinscher',\n",
    "              'German Shepherd', 'Golden Retriever', 'Labrador Retriever','Mixed Breed/Unknown', \n",
    "              'Poodle (Standard)', 'Rottweiler','Soft Coated Wheaten Terrier']]\n",
    "\n",
    "y = df_final['chasing']"
   ]
  },
  {
   "cell_type": "code",
   "execution_count": 5,
   "id": "d7a53bd8",
   "metadata": {},
   "outputs": [],
   "source": [
    "# Split data into training and test sets. (70/30 or 80/20)\n",
    "\n",
    "Xtrain, Xtest, ytrain, ytest = train_test_split(X, y, test_size = 0.3, random_state = 55)"
   ]
  },
  {
   "cell_type": "code",
   "execution_count": 6,
   "id": "3dca787a",
   "metadata": {},
   "outputs": [],
   "source": [
    "# Since all of my X values are binary 0/1 dummy variables for breeds, I don't need to use a scaler."
   ]
  },
  {
   "cell_type": "markdown",
   "id": "fe32df14",
   "metadata": {},
   "source": [
    "Narrowing this dataset to just 'chasing' and breeds makes it far simpler and eliminates a lot of the noise generated by some other traits which didn't show very clear relationships. The reasoning for this limitation is in the EDA portion of this project."
   ]
  },
  {
   "cell_type": "markdown",
   "id": "4f04fdb3",
   "metadata": {},
   "source": [
    "The data has been separated into training and test sets, as well as X and y variables (with chasing being the y, dependent variable, and the breeds being the X, independent variables). All X values are 0 or 1, and y values ranging from 1-5 (as they were acquired through a survey which used those numbers for rating). "
   ]
  },
  {
   "cell_type": "markdown",
   "id": "889e94d8",
   "metadata": {},
   "source": [
    "# Modeling"
   ]
  },
  {
   "cell_type": "markdown",
   "id": "b9c9a944",
   "metadata": {},
   "source": [
    "The main function of this model will be to see if it can give a rough value, from 1-5, predicting a dog's herding behavior from its breed. X values are breed dummy columns, y values are 'chasing' values ranging from 1-5, with 5 being the highest herding tendencies and 1 being none at all."
   ]
  },
  {
   "cell_type": "markdown",
   "id": "7d17fbe2",
   "metadata": {},
   "source": [
    "Since we are predicting a continuous numerical value, we will be using regression models. To get a good variety and assess what works best, we will try Linear, Logistic, Ridge, and Lasso models, and we will be altering hyperparameters of those which seem most promising."
   ]
  },
  {
   "cell_type": "code",
   "execution_count": 7,
   "id": "f0b3a168",
   "metadata": {},
   "outputs": [],
   "source": [
    "# Set up our imports\n",
    "\n",
    "from sklearn.linear_model import LinearRegression, Ridge, Lasso\n",
    "from sklearn.ensemble import RandomForestRegressor\n",
    "import xgboost as xgb\n",
    "from sklearn.metrics import roc_curve, roc_auc_score, mean_squared_error\n",
    "from sklearn.model_selection import GridSearchCV, RandomizedSearchCV, cross_val_score, KFold"
   ]
  },
  {
   "cell_type": "code",
   "execution_count": 8,
   "id": "eb9b3c43",
   "metadata": {},
   "outputs": [
    {
     "name": "stdout",
     "output_type": "stream",
     "text": [
      "The best negative MSE score for a Linear Regression model is -1.0594411396033132\n",
      "The best parameters are {'copy_X': True, 'fit_intercept': False, 'positive': False}\n"
     ]
    }
   ],
   "source": [
    "# Let's start with a Linear Regression model.\n",
    "\n",
    "lin = LinearRegression()\n",
    "\n",
    "lin_params = {'fit_intercept':[True, False], \n",
    "             'copy_X':[True, False],\n",
    "             'positive':[False, True]}\n",
    "\n",
    "lin_search = GridSearchCV(lin, lin_params, scoring='neg_mean_squared_error')\n",
    "\n",
    "lin_search.fit(Xtrain, ytrain)\n",
    "\n",
    "print(\"The best negative MSE score for a Linear Regression model is \" + str(lin_search.best_score_) \n",
    "      + '\\nThe best parameters are ' + str(lin_search.best_params_))"
   ]
  },
  {
   "cell_type": "code",
   "execution_count": 9,
   "id": "84613c9c",
   "metadata": {},
   "outputs": [
    {
     "name": "stdout",
     "output_type": "stream",
     "text": [
      "The best negative MSE score for a Lasso Regression model is -1.0657000623658837\n",
      "The best parameters are {'alpha': 0.01, 'max_iter': 800}\n"
     ]
    }
   ],
   "source": [
    "# Lasso regression model\n",
    "\n",
    "lasso = Lasso()\n",
    "\n",
    "lasso_params = {'alpha':[0.01, 0.10, 0.20, 0.30, 0.40, 0.50, 0.60, 0.70, 0.80, 0.90, 1], \n",
    "             'max_iter':[800, 900, 1000, 1250, 1500, 2000, 2500]}\n",
    "\n",
    "lasso_search = GridSearchCV(lasso, lasso_params, scoring='neg_mean_squared_error')\n",
    "\n",
    "lasso_search.fit(Xtrain, ytrain)\n",
    "\n",
    "print(\"The best negative MSE score for a Lasso Regression model is \" + \n",
    "      str(lasso_search.best_score_) + '\\nThe best parameters are ' + str(lasso_search.best_params_))"
   ]
  },
  {
   "cell_type": "code",
   "execution_count": 10,
   "id": "d247607c",
   "metadata": {},
   "outputs": [
    {
     "name": "stdout",
     "output_type": "stream",
     "text": [
      "The best negative MSE score for an XGBoost model is -1.0593521187072876\n",
      "The best parameters are {'n_estimators': 100, 'max_depth': 9, 'eta': 0.04}\n"
     ]
    }
   ],
   "source": [
    "# XGBoost model\n",
    "\n",
    "boost = xgb.XGBRegressor()\n",
    "\n",
    "boost_params = {'n_estimators':np.arange(80, 120, 10), \n",
    "             'max_depth':np.arange(1, 16, 2),\n",
    "             'eta':[0.4, 0.3, 0.2, 0.1, 0.08, 0.06, 0.04, 0.02, 0.01]}\n",
    "\n",
    "boost_search = RandomizedSearchCV(boost, boost_params, n_iter=50, random_state=52, \n",
    "                                scoring='neg_mean_squared_error', return_train_score = True)\n",
    "\n",
    "boost_search.fit(Xtrain, ytrain)\n",
    "\n",
    "print(\"The best negative MSE score for an XGBoost model is \" + \n",
    "      str(boost_search.best_score_) + '\\nThe best parameters are ' + str(boost_search.best_params_))"
   ]
  },
  {
   "cell_type": "code",
   "execution_count": 11,
   "id": "9b5a8802",
   "metadata": {},
   "outputs": [
    {
     "name": "stdout",
     "output_type": "stream",
     "text": [
      "The best negative MSE score for a Random Forest model is -1.0591115168521605\n",
      "The best parameters are {'n_estimators': 90, 'min_samples_split': 4, 'max_depth': 5, 'criterion': 'squared_error'}\n"
     ]
    }
   ],
   "source": [
    "# Random forest regressor\n",
    "\n",
    "rfr = RandomForestRegressor()\n",
    "\n",
    "rfr_params = {'n_estimators':np.arange(80, 120, 10), \n",
    "             'criterion':['squared_error', 'absolute_error', 'friedman_mse', 'poisson'],\n",
    "             'max_depth':np.arange(1, 10),\n",
    "             'min_samples_split':np.arange(2, 15)}\n",
    "\n",
    "rfr_search = RandomizedSearchCV(rfr, rfr_params, n_iter=30, random_state=52, \n",
    "                            scoring='neg_mean_squared_error', error_score='raise')\n",
    "\n",
    "rfr_search.fit(Xtrain, ytrain)\n",
    "\n",
    "print(\"The best negative MSE score for a Random Forest model is \" + str(rfr_search.best_score_) + '\\nThe best parameters are ' + str(rfr_search.best_params_))"
   ]
  },
  {
   "cell_type": "markdown",
   "id": "c68dfdf3",
   "metadata": {},
   "source": [
    "So far, based on the best negative MSE score of the four above, the Random Forest models seems to be winning--however, not by much. All are very close, except for Lasso, which seemed to do measurably worse than the others. The linear and lasso models ran quickly, but the XGBoost and random forest models struggled to run on my computer."
   ]
  },
  {
   "cell_type": "code",
   "execution_count": 12,
   "id": "d564fc60",
   "metadata": {},
   "outputs": [
    {
     "name": "stderr",
     "output_type": "stream",
     "text": [
      "C:\\Users\\Guest1\\AppData\\Local\\Temp\\ipykernel_41404\\3624666115.py:15: MatplotlibDeprecationWarning: The 'labels' parameter of boxplot() has been renamed 'tick_labels' since Matplotlib 3.9; support for the old name will be dropped in 3.11.\n",
      "  plt.boxplot(results, labels=models.keys())\n"
     ]
    },
    {
     "data": {
      "image/png": "[encoded data removed]",
      "text/plain": [
       "<Figure size 640x480 with 1 Axes>"
      ]
     },
     "metadata": {},
     "output_type": "display_data"
    },
    {
     "name": "stdout",
     "output_type": "stream",
     "text": [
      "[array([-1.05569667, -1.08541358, -1.01791561, -1.04254115, -1.08915472]), array([-1.05563805, -1.09514472, -1.02937867, -1.04428444, -1.09950582]), array([-1.05509074, -1.08572382, -1.01936243, -1.04198803, -1.08997782]), array([-1.05540366, -1.08572031, -1.02009534, -1.04203946, -1.09066782])]\n"
     ]
    }
   ],
   "source": [
    "# Compare the four models with cross validation\n",
    "\n",
    "models = {'Linear Regression':lin_search, 'Lasso':lasso_search, 'XGBoost':boost_search, \n",
    "          'Random Forest Regressor':rfr_search}\n",
    "\n",
    "results = []\n",
    "\n",
    "for model in models.values():\n",
    "    kf = KFold(n_splits=5, random_state=52, shuffle=True)\n",
    "    cv_results = cross_val_score(model, Xtrain, ytrain, cv=kf)\n",
    "    results.append(cv_results)\n",
    "\n",
    "# Create a boxplot to show the comparison    \n",
    "\n",
    "plt.boxplot(results, labels=models.keys())\n",
    "plt.show()\n",
    "\n",
    "print(results)"
   ]
  },
  {
   "cell_type": "markdown",
   "id": "6259f1dd",
   "metadata": {},
   "source": [
    "The boxplot visually seems to indicate that the Linear model does the best; the upper margin of its box is slightly higher than the others, and both top and bottom whiskers are higher than those of the other models. \n",
    "\n",
    "We will calculate some extra stats from each model and create a table of comparison for numerical analysis."
   ]
  },
  {
   "cell_type": "code",
   "execution_count": 13,
   "id": "3d7eaa86",
   "metadata": {},
   "outputs": [
    {
     "name": "stdout",
     "output_type": "stream",
     "text": [
      "Mean cross validation train score: -1.0594062573945968\n",
      "Mean cross validation test score: -1.0580925381509636\n",
      "Standard deviation in cv test scores: 0.07783926504094028\n"
     ]
    }
   ],
   "source": [
    "# Linear regression, model lin_search\n",
    "\n",
    "cv_train = cross_val_score(lin_search,Xtrain,ytrain,cv=5,scoring='neg_mean_squared_error')\n",
    "cv_test = cross_val_score(lin_search,Xtest,ytest,cv=5,scoring='neg_mean_squared_error')\n",
    "\n",
    "cv_train_lin = cv_train.mean()\n",
    "cv_test_lin= cv_test.mean()\n",
    "cv_test_std_lin= cv_test.std()\n",
    "\n",
    "print ('Mean cross validation train score: ' +str(cv_train_lin))\n",
    "print ('Mean cross validation test score: ' +str(cv_test_lin))\n",
    "print ('Standard deviation in cv test scores: ' +str(cv_test_std_lin))"
   ]
  },
  {
   "cell_type": "code",
   "execution_count": 14,
   "id": "47c3aac7",
   "metadata": {},
   "outputs": [
    {
     "name": "stdout",
     "output_type": "stream",
     "text": [
      "Mean cross validation train score: -1.0657000623658837\n",
      "Mean cross validation test score: -1.0571576396797686\n",
      "Standard deviation in cv test scores: 0.07648583509092881\n"
     ]
    }
   ],
   "source": [
    "# Lasso regression, model lasso_search\n",
    "\n",
    "cv_train = cross_val_score(lasso_search,Xtrain,ytrain,cv=5,scoring='neg_mean_squared_error')\n",
    "cv_test = cross_val_score(lasso_search,Xtest,ytest,cv=5,scoring='neg_mean_squared_error')\n",
    "\n",
    "cv_train_lasso = cv_train.mean()\n",
    "cv_test_lasso= cv_test.mean()\n",
    "cv_test_std_lasso= cv_test.std()\n",
    "\n",
    "print ('Mean cross validation train score: ' +str(cv_train_lasso))\n",
    "print ('Mean cross validation test score: ' +str(cv_test_lasso))\n",
    "print ('Standard deviation in cv test scores: ' +str(cv_test_std_lasso))"
   ]
  },
  {
   "cell_type": "code",
   "execution_count": 15,
   "id": "87aeef91",
   "metadata": {},
   "outputs": [
    {
     "name": "stdout",
     "output_type": "stream",
     "text": [
      "Mean cross validation train score: -1.0601639967970946\n",
      "Mean cross validation test score: -1.0551475611082675\n",
      "Standard deviation in cv test scores: 0.07729774677957832\n"
     ]
    }
   ],
   "source": [
    "# XGBoost, model boost_search\n",
    "\n",
    "cv_train = cross_val_score(boost_search,Xtrain,ytrain,cv=5,scoring='neg_mean_squared_error')\n",
    "cv_test = cross_val_score(boost_search,Xtest,ytest,cv=5,scoring='neg_mean_squared_error')\n",
    "\n",
    "cv_train_boost = cv_train.mean()\n",
    "cv_test_boost = cv_test.mean()\n",
    "cv_test_std_boost = cv_test.std()\n",
    "\n",
    "print ('Mean cross validation train score: ' +str(cv_train_boost))\n",
    "print ('Mean cross validation test score: ' +str(cv_test_boost))\n",
    "print ('Standard deviation in cv test scores: ' +str(cv_test_std_boost))"
   ]
  },
  {
   "cell_type": "code",
   "execution_count": 16,
   "id": "9b194b47",
   "metadata": {},
   "outputs": [
    {
     "name": "stdout",
     "output_type": "stream",
     "text": [
      "Mean cross validation train score: -1.0599830590724253\n",
      "Mean cross validation test score: -1.05571317827011\n",
      "Standard deviation in cv test scores: 0.07480361087907343\n"
     ]
    }
   ],
   "source": [
    "# Random forest regressor, model rfr_search\n",
    "\n",
    "cv_train = cross_val_score(rfr_search,Xtrain,ytrain,cv=5,scoring='neg_mean_squared_error')\n",
    "cv_test = cross_val_score(rfr_search,Xtest,ytest,cv=5,scoring='neg_mean_squared_error')\n",
    "\n",
    "cv_train_rfr = cv_train.mean()\n",
    "cv_test_rfr = cv_test.mean()\n",
    "cv_test_std_rfr = cv_test.std()\n",
    "\n",
    "print ('Mean cross validation train score: ' +str(cv_train_rfr))\n",
    "print ('Mean cross validation test score: ' +str(cv_test_rfr))\n",
    "print ('Standard deviation in cv test scores: ' +str(cv_test_std_rfr))"
   ]
  },
  {
   "cell_type": "code",
   "execution_count": 17,
   "id": "66c4848d",
   "metadata": {},
   "outputs": [
    {
     "name": "stdout",
     "output_type": "stream",
     "text": [
      "           Algorithm  NMSE Training Score  NMSE Testing Score  NMSE Best Score\n",
      "0  Linear Regression            -1.059406           -1.058093        -1.059441\n",
      "1              Lasso            -1.065700           -1.057158        -1.065700\n",
      "2            XGBoost            -1.060164           -1.055148        -1.059352\n",
      "3      Random Forest            -1.059983           -1.055713        -1.059112\n"
     ]
    }
   ],
   "source": [
    "names = ['Linear Regression','Lasso','XGBoost','Random Forest']\n",
    "trains = [cv_train_lin,cv_train_lasso,cv_train_boost,cv_train_rfr]\n",
    "tests = [cv_test_lin,cv_test_lasso,cv_test_boost,cv_test_rfr]\n",
    "best_mses = [lin_search.best_score_, lasso_search.best_score_, boost_search.best_score_, rfr_search.best_score_]\n",
    "\n",
    "df = pd.DataFrame(list(zip(names, trains, tests, best_mses)), \n",
    "               columns =['Algorithm', 'NMSE Training Score', 'NMSE Testing Score', 'NMSE Best Score']) \n",
    "print(df)"
   ]
  },
  {
   "cell_type": "code",
   "execution_count": 18,
   "id": "fa7ea7b1",
   "metadata": {},
   "outputs": [
    {
     "data": {
      "image/png": "[encoded data removed]",
      "text/plain": [
       "<Figure size 640x480 with 1 Axes>"
      ]
     },
     "metadata": {},
     "output_type": "display_data"
    }
   ],
   "source": [
    "# A bar plot to visually evaluate these scores\n",
    "\n",
    "N = 4\n",
    "ind = np.arange(N)  \n",
    "width = 0.25\n",
    "cmap = plt.get_cmap('tab20c')\n",
    "c1 = cmap(2/20)\n",
    "c2 = cmap(6/20)\n",
    "c3 = cmap(10/20)\n",
    "    \n",
    "xvals = trains\n",
    "bar1 = plt.bar(ind, xvals, width, color=c1) \n",
    "  \n",
    "yvals = tests\n",
    "bar2 = plt.bar(ind+width, yvals, width, color=c2) \n",
    "  \n",
    "zvals = best_mses \n",
    "bar3 = plt.bar(ind+width*2, zvals, width, color=c3) \n",
    "  \n",
    "plt.xlabel(\"Algorithm\") \n",
    "plt.ylabel('Scores') \n",
    "plt.title(\"Algorithms Compared by Score\") \n",
    " \n",
    "plt.xticks(ind+width,names) \n",
    "plt.legend((bar1, bar2, bar3), ('Training Score', 'Testing Score', 'Best NMSE Score')) \n",
    "\n",
    "for bar in bar1:\n",
    "    height = bar.get_height()\n",
    "    plt.text(bar.get_x() + bar.get_width() / 2.0, height, f'{height:.4f}', ha='center', va='bottom', rotation=60)\n",
    "\n",
    "for bar in bar2:\n",
    "    height = bar.get_height()\n",
    "    plt.text(bar.get_x() + bar.get_width() / 2.0, height, f'{height:.4f}', ha='center', va='bottom', rotation=60)\n",
    "\n",
    "for bar in bar3:\n",
    "    height = bar.get_height()\n",
    "    plt.text(bar.get_x() + bar.get_width() / 2.0, height, f'{height:.4f}', ha='center', va='bottom', rotation=60)\n",
    "    \n",
    "plt.show()"
   ]
  },
  {
   "cell_type": "markdown",
   "id": "641040a2",
   "metadata": {},
   "source": [
    "Interestingly, all of the models had better testing scores than training scores. However, Linear Regression seems to beat the others. It has the highest training score, which is almost equal to its testing score. Its best score is one of the highest as well. Due to its consistency and quick running speed, I think that will be the best fit for this project, and as such, I will perform another GridSearchCV to refine it one last time. "
   ]
  },
  {
   "cell_type": "code",
   "execution_count": 19,
   "id": "4748e0ec",
   "metadata": {},
   "outputs": [
    {
     "name": "stdout",
     "output_type": "stream",
     "text": [
      "The best negative MSE score for the Linear Regression model is -1.0594411396033132\n",
      "The best parameters are {'copy_X': True, 'fit_intercept': False, 'positive': False}\n",
      "The model's NMSE training CV score is -1.0577645074562103\n",
      "The model's NMSE testing CV score is -1.0563736239102308\n"
     ]
    }
   ],
   "source": [
    "lin = LinearRegression()\n",
    "\n",
    "lin_params = {'fit_intercept':[True, False], \n",
    "             'copy_X':[True, False],\n",
    "             'positive':[False, True]}\n",
    "\n",
    "linModel = GridSearchCV(lin, lin_params, scoring='neg_mean_squared_error', cv=10)\n",
    "\n",
    "linModel.fit(Xtrain, ytrain)\n",
    "\n",
    "print(\"The best negative MSE score for the Linear Regression model is \" + str(lin_search.best_score_) \n",
    "      + '\\nThe best parameters are ' + str(lin_search.best_params_))\n",
    "\n",
    "training = cross_val_score(linModel, Xtrain, ytrain, cv=10, scoring='neg_mean_squared_error')\n",
    "\n",
    "print(\"The model's NMSE training CV score is \" + str(training.mean()))\n",
    "\n",
    "ypred = linModel.predict(Xtest)\n",
    "testing = cross_val_score(linModel, Xtest, ytest, cv=10, scoring='neg_mean_squared_error')\n",
    "\n",
    "print(\"The model's NMSE testing CV score is \"+ str(testing.mean()))"
   ]
  },
  {
   "cell_type": "markdown",
   "id": "ffecd648",
   "metadata": {},
   "source": [
    "The final model (linModel) has a training NMSE score of ~-1.05776 and a testing score of ~-1.05637."
   ]
  }
 ],
 "metadata": {
  "kernelspec": {
   "display_name": "Python 3 (ipykernel)",
   "language": "python",
   "name": "python3"
  },
  "language_info": {
   "codemirror_mode": {
    "name": "ipython",
    "version": 3
   },
   "file_extension": ".py",
   "mimetype": "text/x-python",
   "name": "python",
   "nbconvert_exporter": "python",
   "pygments_lexer": "ipython3",
   "version": "3.11.5"
  }
 },
 "nbformat": 4,
 "nbformat_minor": 5
}
